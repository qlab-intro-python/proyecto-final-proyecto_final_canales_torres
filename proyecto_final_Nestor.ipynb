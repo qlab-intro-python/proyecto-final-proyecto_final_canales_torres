{
 "cells": [
  {
   "cell_type": "markdown",
   "metadata": {},
   "source": [
    "# **Proyecto final**"
   ]
  },
  {
   "cell_type": "markdown",
   "metadata": {},
   "source": [
    "Curso:          Fundamentos de Programación en Python para Macroeconomía y Finanzas     \n",
    "Profesor:       Victor Fuentes Campos     "
   ]
  },
  {
   "cell_type": "markdown",
   "metadata": {},
   "source": [
    "- Fecha y hora de entrega: Jueves 18 de enero, 9:59pm. **NO HABRÁN PRÓRROGAS**\n",
    "- Grupos de dos personas por elección libre\n",
    "- Envíe su tarea haciendo el `push` de su código a su repo en GitHub Classroom"
   ]
  },
  {
   "cell_type": "markdown",
   "metadata": {},
   "source": [
    "El propósito de este proyecto es que tengan un código de su autoría publicado en GitHub"
   ]
  },
  {
   "cell_type": "markdown",
   "metadata": {},
   "source": [
    "## Página web"
   ]
  },
  {
   "cell_type": "markdown",
   "metadata": {},
   "source": [
    "> Según lo discutido en la última clase, **deberán crear su propia página web usando GitHub Pages**. En ella, deberán mostrar el notebook de su proyecto final\n",
    "\n",
    "Recursos adicionales:\n",
    "\n",
    "1. Videos tutoriales\n",
    "    - https://www.youtube.com/watch?v=zyGfECfJ9BY\n",
    "    - https://www.youtube.com/watch?v=K5xImVmm2Ds\n",
    "\n",
    "\n",
    "2. Plantillas\n",
    "    - https://bootstrapmade.com/bootstrap-portfolio-templates/\n",
    "    - https://cssauthor.com/free-bootstrap-portfolio-templates/"
   ]
  },
  {
   "cell_type": "markdown",
   "metadata": {},
   "source": [
    "Incluya aquí el link de sus páginas web\n",
    "- Integrante 1: https://nael97-c.github.io/NestorCanalesAnyosa/\n",
    "- Integrante 2: ________________"
   ]
  },
  {
   "cell_type": "markdown",
   "metadata": {},
   "source": [
    "## Aplicación"
   ]
  },
  {
   "cell_type": "markdown",
   "metadata": {},
   "source": [
    "Pautas generales\n",
    "\n",
    "- Insumos: deberán trabajar al menos dos (2) bases de datos diferentes que requieran alguna transformación (`data wrangling`). Una de ellas tiene que ser un archivo de texto (`.txt`, `.pdf`, `.docx`, etc)\n",
    "- Tareas: (i) explicar la relevancia del análisis a desarrollar; (ii) utilizar al menos una vez listas, loops y functions para transformar la base de datos cruda y obtener información relevanete; y (iii) aplicar algoritmos de NLP para transformar texto en datos valiosos\n",
    "- Deberán proveer obligatoriamente gráficos (2 o más) y tablas/cuadros (2 o más) de su libre elección y conclusiones relevantes"
   ]
  },
  {
   "cell_type": "markdown",
   "metadata": {},
   "source": [
    "Posibles datos para el ejercicio de `data wrangling`\n",
    "\n",
    "- Estadísticas de 100 años del BCRP. Más [aquí](https://www.bcrp.gob.pe/en/estadisticas/estadisticas-de-100-anos-del-bcrp.html)\n",
    "- 1,000 años de datos macroeconómicos en Reino Unido. Más [aquí](https://www.kaggle.com/datasets/bank-of-england/a-millennium-of-macroeconomic-data)\n",
    "- Historial crediticio - Datathon Interbank 2020. Más [aquí](https://www.kaggle.com/competitions/interbank20/data?select=censo_test.csv)\n",
    "- Ataques terroristas en el mundo. Más [aquí](https://www.kaggle.com/code/gpreda/global-terrorist-attacks/input)\n",
    "- [World Hapiness Report 2023](https://worldhappiness.report/), compilado por Carla Solís. Más [aquí](https://raw.githubusercontent.com/ccsuehara/python_para_las_ccss/main/Clase%205/data/world-happiness-report-2023.csv)\n",
    "- Otros datos del BCRP, MEF, SBS, SMV, BVL, INEI, etc.\n",
    "- Cualquier otra base de datos que consideren relevante. En este caso, también deberán proveer la base de datos original en el repo. De ser muy grande, deberá ofrecer un link a la plataforma de almacenamiento en la nuba de su elección (Dropbox, Drive, OneDrive, etc) que permita el acceso a dichos datos\n"
   ]
  },
  {
   "cell_type": "markdown",
   "metadata": {},
   "source": [
    "Posibles datos para el ejercicio de NLP\n",
    "\n",
    "- Federal Open Market Committee (FOMC) meetings statements. Más [aquí](https://www.federalreserve.gov/monetarypolicy/fomccalendars.htm). El repo incluye tres archivos `.docx`\n",
    "- Programa Monetario del Banco Central de Reserva del Perú (BCRP). Más [aquí](https://www.bcrp.gob.pe/transparencia/actividades-oficiales/notas-informativas.html). El repo incluye tres archivos `.pdf`\n",
    "- Mensajes presidenciales de Carla Solís y Luis Eduardo San Martín. [Acá](https://github.com/ccsuehara/Peruvian-presidents-speeches/tree/master/data/presidentialSpeechPeru/txt) los archivos\n",
    "- \"Fake vs real news\" de George McIntire. Más info [aquí](https://opendatascience.com/how-to-build-a-fake-news-classification-model/). La base de datos está alojada en su [repo](https://github.com/GeorgeMcIntire/fake_real_news_dataset?tab=readme-ov-file)\n",
    "- Coronavirus tweets de Kaggle. Más info [aquí](https://www.kaggle.com/datasets/datatattle/covid-19-nlp-text-classification)\n",
    "- Twitter Financial News de Kaggle. Más infor [aquí](https://www.kaggle.com/datasets/sulphatet/twitter-financial-news)\n",
    "- Cualquier otra base de datos que consideren relevante. En este caso, también deberán proveer la base de datos original en el repo. De ser muy grande, deberá ofrecer un link a la plataforma de almacenamiento en la nuba de su elección (Dropbox, Drive, OneDrive, etc) que permita el acceso a dichos datos"
   ]
  },
  {
   "cell_type": "markdown",
   "metadata": {},
   "source": [
    "He decidido utilizar la base de datos de la Federal Open Market Committe (FOMC) meetings statements. Asimismo, la he complementado con otros informes que pude acceder a través del link para tener una base de datos más completa para el año 2023."
   ]
  },
  {
   "cell_type": "code",
   "execution_count": 23,
   "metadata": {},
   "outputs": [],
   "source": [
    "fomc_2023_02_01 = \"The Committee seeks to achieve maximum employment and inflation at the rate of 2 percent over the longer run. In support of these goals, the Committee decided to raise the target range for the federal funds rate to 4-1/2 to 4-3/4 percent. The Committee anticipates that ongoing increases in the target range will be appropriate in order to attain a stance of monetary policy that is sufficiently restrictive to return inflation to 2 percent over time. In determining the extent of future increases in the target range, the Committee will take into account the cumulative tightening of monetary policy, the lags with which monetary policy affects economic activity and inflation, and economic and financial developments. In addition, the Committee will continue reducing its holdings of Treasury securities and agency debt and agency mortgage-backed securities, as described in its previously announced plans. The Committee is strongly committed to returning inflation to its 2 percent objective.\"\n",
    "fomc_2023_03_22 = \"The Committee seeks to achieve maximum employment and inflation at the rate of 2 percent over the longer run. In support of these goals, the Committee decided to raise the target range for the federal funds rate to 4-3/4 to 5 percent. The Committee will closely monitor incoming information and assess the implications for monetary policy. The Committee anticipates that some additional policy firming may be appropriate in order to attain a stance of monetary policy that is sufficiently restrictive to return inflation to 2 percent over time. In determining the extent of future increases in the target range, the Committee will take into account the cumulative tightening of monetary policy, the lags with which monetary policy affects economic activity and inflation, and economic and financial developments. In addition, the Committee will continue reducing its holdings of Treasury securities and agency debt and agency mortgage-backed securities, as described in its previously announced plans. The Committee is strongly committed to returning inflation to its 2 percent objective.\"\n",
    "fomc_2023_05_03 = \"The Committee seeks to achieve maximum employment and inflation at the rate of 2 percent over the longer run. In support of these goals, the Committee decided to raise the target range for the federal funds rate to 5 to 5-1/4 percent. The Committee will closely monitor incoming information and assess the implications for monetary policy. In determining the extent to which additional policy firming may be appropriate to return inflation to 2 percent over time, the Committee will take into account the cumulative tightening of monetary policy, the lags with which monetary policy affects economic activity and inflation, and economic and financial developments. In addition, the Committee will continue reducing its holdings of Treasury securities and agency debt and agency mortgage-backed securities, as described in its previously announced plans. The Committee is strongly committed to returning inflation to its 2 percent objective.\"\n",
    "fomc_2023_06_14 = \"The Committee seeks to achieve maximum employment and inflation at the rate of 2 percent over the longer run. In support of these goals, the Committee decided to maintain the target range for the federal funds rate at 5 to 5-1/4 percent. Holding the target range steady at this meeting allows the Committee to assess additional information and its implications for monetary policy. In determining the extent of additional policy firming that may be appropriate to return inflation to 2 percent over time, the Committee will take into account the cumulative tightening of monetary policy, the lags with which monetary policy affects economic activity and inflation, and economic and financial developments. In addition, the Committee will continue reducing its holdings of Treasury securities and agency debt and agency mortgage-backed securities, as described in its previously announced plans. The Committee is strongly committed to returning inflation to its 2 percent objective.\"\n",
    "fomc_2023_07_26 = \"The Committee seeks to achieve maximum employment and inflation at the rate of 2 percent over the longer run. In support of these goals, the Committee decided to raise the target range for the federal funds rate to 5-1/4 to 5-1/2 percent. The Committee will continue to assess additional information and its implications for monetary policy. In determining the extent of additional policy firming that may be appropriate to return inflation to 2 percent over time, the Committee will take into account the cumulative tightening of monetary policy, the lags with which monetary policy affects economic activity and inflation, and economic and financial developments. In addition, the Committee will continue reducing its holdings of Treasury securities and agency debt and agency mortgage-backed securities, as described in its previously announced plans. The Committee is strongly committed to returning inflation to its 2 percent objective.\"\n",
    "fomc_2023_09_20 = \"The Committee seeks to achieve maximum employment and inflation at the rate of 2 percent over the longer run. In support of these goals, the Committee decided to maintain the target range for the federal funds rate at 5-1/4 to 5-1/2 percent. The Committee will continue to assess additional information and its implications for monetary policy. In determining the extent of additional policy firming that may be appropriate to return inflation to 2 percent over time, the Committee will take into account the cumulative tightening of monetary policy, the lags with which monetary policy affects economic activity and inflation, and economic and financial developments. In addition, the Committee will continue reducing its holdings of Treasury securities and agency debt and agency mortgage-backed securities, as described in its previously announced plans. The Committee is strongly committed to returning inflation to its 2 percent objective.\"\n",
    "fomc_2023_11_01 = \"The Committee seeks to achieve maximum employment and inflation at the rate of 2 percent over the longer run. In support of these goals, the Committee decided to maintain the target range for the federal funds rate at 5-1/4 to 5-1/2 percent. The Committee will continue to assess additional information and its implications for monetary policy. In determining the extent of additional policy firming that may be appropriate to return inflation to 2 percent over time, the Committee will take into account the cumulative tightening of monetary policy, the lags with which monetary policy affects economic activity and inflation, and economic and financial developments. In addition, the Committee will continue reducing its holdings of Treasury securities and agency debt and agency mortgage-backed securities, as described in its previously announced plans. The Committee is strongly committed to returning inflation to its 2 percent objective.\"\n",
    "fomc_2023_12_13 = \"The Committee seeks to achieve maximum employment and inflation at the rate of 2 percent over the longer run. In support of these goals, the Committee decided to maintain the target range for the federal funds rate at 5-1/4 to 5-1/2 percent. The Committee will continue to assess additional information and its implications for monetary policy. In determining the extent of any additional policy firming that may be appropriate to return inflation to 2 percent over time, the Committee will take into account the cumulative tightening of monetary policy, the lags with which monetary policy affects economic activity and inflation, and economic and financial developments. In addition, the Committee will continue reducing its holdings of Treasury securities and agency debt and agency mortgage-backed securities, as described in its previously announced plans. The Committee is strongly committed to returning inflation to its 2 percent objective.\""
   ]
  },
  {
   "cell_type": "code",
   "execution_count": 24,
   "metadata": {},
   "outputs": [],
   "source": [
    "import re"
   ]
  },
  {
   "cell_type": "code",
   "execution_count": 25,
   "metadata": {},
   "outputs": [
    {
     "name": "stdout",
     "output_type": "stream",
     "text": [
      "['4-1/2', '4-3/4']\n"
     ]
    }
   ],
   "source": [
    "patron1 = r'(\\d+-\\d+/\\d+) to (\\d+-\\d+/\\d+)'\n",
    "resultados_1 = re.search(patron1, fomc_2023_02_01)\n",
    "\n",
    "if resultados_1:\n",
    "    elemento1 = resultados_1.group(1)\n",
    "    elemento2 = resultados_1.group(2)\n",
    "    elementos_1_2 = [elemento1, elemento2]\n",
    "\n",
    "    print(elementos_1_2)\n",
    "else:\n",
    "    print(\"No se encontraron coincidencias.\")"
   ]
  },
  {
   "cell_type": "code",
   "execution_count": 27,
   "metadata": {},
   "outputs": [
    {
     "name": "stdout",
     "output_type": "stream",
     "text": [
      "['4-3/4', '5']\n"
     ]
    }
   ],
   "source": [
    "patron2 = r'(\\d+-\\d+/\\d+) to (\\d)'\n",
    "resultados_2 = re.search(patron2, fomc_2023_03_22)\n",
    "\n",
    "if resultados_2:\n",
    "    elemento3 = resultados_2.group(1)\n",
    "    elemento4 = resultados_2.group(2)\n",
    "    elementos_3_4 = [elemento3, elemento4]\n",
    "\n",
    "    print(elementos_3_4)\n",
    "else:\n",
    "    print(\"No se encontraron coincidencias.\")"
   ]
  },
  {
   "cell_type": "code",
   "execution_count": 28,
   "metadata": {},
   "outputs": [
    {
     "name": "stdout",
     "output_type": "stream",
     "text": [
      "['5', '5-1/4']\n"
     ]
    }
   ],
   "source": [
    "patron3 = r'(\\d) to (\\d+-\\d+/\\d+)'\n",
    "resultados_3 = re.search(patron3, fomc_2023_05_03)\n",
    "\n",
    "if resultados_3:\n",
    "    elemento5 = resultados_3.group(1)\n",
    "    elemento6 = resultados_3.group(2)\n",
    "    elementos_5_6 = [elemento5, elemento6]\n",
    "\n",
    "    print(elementos_5_6)\n",
    "else:\n",
    "    print(\"No se encontraron coincidencias.\")"
   ]
  },
  {
   "cell_type": "code",
   "execution_count": 29,
   "metadata": {},
   "outputs": [
    {
     "name": "stdout",
     "output_type": "stream",
     "text": [
      "['5', '5-1/4']\n"
     ]
    }
   ],
   "source": [
    "resultados_4 = re.search(patron3, fomc_2023_06_14)\n",
    "\n",
    "if resultados_4:\n",
    "    elemento7 = resultados_4.group(1)\n",
    "    elemento8 = resultados_4.group(2)\n",
    "    elementos_7_8 = [elemento7, elemento8]\n",
    "\n",
    "    print(elementos_7_8)\n",
    "else:\n",
    "    print(\"No se encontraron coincidencias.\")"
   ]
  },
  {
   "cell_type": "code",
   "execution_count": 31,
   "metadata": {},
   "outputs": [
    {
     "name": "stdout",
     "output_type": "stream",
     "text": [
      "['5-1/4', '5-1/2']\n"
     ]
    }
   ],
   "source": [
    "resultados_5 = re.search(patron1, fomc_2023_07_26)\n",
    "\n",
    "if resultados_5:\n",
    "    elemento9 = resultados_5.group(1)\n",
    "    elemento10 = resultados_5.group(2)\n",
    "    elementos_9_10 = [elemento9, elemento10]\n",
    "\n",
    "    print(elementos_9_10)\n",
    "else:\n",
    "    print(\"No se encontraron coincidencias.\")"
   ]
  },
  {
   "cell_type": "code",
   "execution_count": 32,
   "metadata": {},
   "outputs": [
    {
     "name": "stdout",
     "output_type": "stream",
     "text": [
      "['5-1/4', '5-1/2']\n"
     ]
    }
   ],
   "source": [
    "resultados_6 = re.search(patron1, fomc_2023_09_20)\n",
    "\n",
    "if resultados_6:\n",
    "    elemento11 = resultados_6.group(1)\n",
    "    elemento12 = resultados_6.group(2)\n",
    "    elementos_11_12 = [elemento11, elemento12]\n",
    "\n",
    "    print(elementos_11_12)\n",
    "else:\n",
    "    print(\"No se encontraron coincidencias.\")"
   ]
  },
  {
   "cell_type": "code",
   "execution_count": 34,
   "metadata": {},
   "outputs": [
    {
     "name": "stdout",
     "output_type": "stream",
     "text": [
      "['5-1/4', '5-1/2']\n"
     ]
    }
   ],
   "source": [
    "resultados_7 = re.search(patron1, fomc_2023_11_01)\n",
    "\n",
    "if resultados_7:\n",
    "    elemento13 = resultados_7.group(1)\n",
    "    elemento14 = resultados_7.group(2)\n",
    "    elementos_13_14 = [elemento13, elemento14]\n",
    "\n",
    "    print(elementos_13_14)\n",
    "else:\n",
    "    print(\"No se encontraron coincidencias.\")"
   ]
  },
  {
   "cell_type": "code",
   "execution_count": 35,
   "metadata": {},
   "outputs": [
    {
     "name": "stdout",
     "output_type": "stream",
     "text": [
      "['5-1/4', '5-1/2']\n"
     ]
    }
   ],
   "source": [
    "resultados_8 = re.search(patron1, fomc_2023_12_13)\n",
    "\n",
    "if resultados_8:\n",
    "    elemento15 = resultados_8.group(1)\n",
    "    elemento16 = resultados_8.group(2)\n",
    "    elementos_15_16 = [elemento15, elemento16]\n",
    "\n",
    "    print(elementos_15_16)\n",
    "else:\n",
    "    print(\"No se encontraron coincidencias.\")"
   ]
  },
  {
   "cell_type": "code",
   "execution_count": 36,
   "metadata": {},
   "outputs": [
    {
     "name": "stdout",
     "output_type": "stream",
     "text": [
      "Tipos para elementos_1_2:\n",
      "Tipo de '4-1/2': <class 'str'>\n",
      "Tipo de '4-3/4': <class 'str'>\n",
      "\n",
      "Tipos para elementos_3_4:\n",
      "Tipo de '4-3/4': <class 'str'>\n",
      "Tipo de '5': <class 'str'>\n",
      "\n",
      "Tipos para elementos_5_6:\n",
      "Tipo de '5': <class 'str'>\n",
      "Tipo de '5-1/4': <class 'str'>\n",
      "\n",
      "Tipos para elementos_7_8:\n",
      "Tipo de '5': <class 'str'>\n",
      "Tipo de '5-1/4': <class 'str'>\n",
      "\n",
      "Tipos para elementos_9_10:\n",
      "Tipo de '5-1/4': <class 'str'>\n",
      "Tipo de '5-1/2': <class 'str'>\n",
      "\n",
      "Tipos para elementos_11_12:\n",
      "Tipo de '5-1/4': <class 'str'>\n",
      "Tipo de '5-1/2': <class 'str'>\n",
      "\n",
      "Tipos para elementos_13_14:\n",
      "Tipo de '5-1/4': <class 'str'>\n",
      "Tipo de '5-1/2': <class 'str'>\n",
      "\n",
      "Tipos para elementos_15_16:\n",
      "Tipo de '5-1/4': <class 'str'>\n",
      "Tipo de '5-1/2': <class 'str'>\n"
     ]
    }
   ],
   "source": [
    "# Función para imprimir el tipo de cada elemento en una lista\n",
    "def imprimir_tipos(lista):\n",
    "    for elemento in lista:\n",
    "        print(f\"Tipo de '{elemento}': {type(elemento)}\")\n",
    "\n",
    "# Imprimir tipos para cada lista\n",
    "print(\"Tipos para elementos_1_2:\")\n",
    "imprimir_tipos(elementos_1_2)\n",
    "\n",
    "print(\"\\nTipos para elementos_3_4:\")\n",
    "imprimir_tipos(elementos_3_4)\n",
    "\n",
    "print(\"\\nTipos para elementos_5_6:\")\n",
    "imprimir_tipos(elementos_5_6)\n",
    "\n",
    "print(\"\\nTipos para elementos_7_8:\")\n",
    "imprimir_tipos(elementos_7_8)\n",
    "\n",
    "print(\"\\nTipos para elementos_9_10:\")\n",
    "imprimir_tipos(elementos_9_10)\n",
    "\n",
    "print(\"\\nTipos para elementos_11_12:\")\n",
    "imprimir_tipos(elementos_11_12)\n",
    "\n",
    "print(\"\\nTipos para elementos_13_14:\")\n",
    "imprimir_tipos(elementos_13_14)\n",
    "\n",
    "print(\"\\nTipos para elementos_15_16:\")\n",
    "imprimir_tipos(elementos_15_16)"
   ]
  },
  {
   "cell_type": "code",
   "execution_count": 37,
   "metadata": {},
   "outputs": [
    {
     "name": "stdout",
     "output_type": "stream",
     "text": [
      "Elementos 1 y 2 como float: [4.5, 4.75]\n",
      "Elementos 3 y 4 como float: [4.75, 5.0]\n",
      "Elementos 5 y 6 como float: [5.0, 5.25]\n",
      "Elementos 7 y 8 como float: [5.0, 5.25]\n",
      "Elementos 9 y 10 como float: [5.25, 5.5]\n",
      "Elementos 11 y 12 como float: [5.25, 5.5]\n",
      "Elementos 13 y 14 como float: [5.25, 5.5]\n",
      "Elementos 15 y 16 como float: [5.25, 5.5]\n"
     ]
    }
   ],
   "source": [
    "from fractions import Fraction\n",
    "\n",
    "def convertir_a_float(elemento):\n",
    "    partes = elemento.split('-')\n",
    "    \n",
    "    if len(partes) == 2:\n",
    "        # Si hay dos partes después de dividir por \"-\", convertir a float\n",
    "        entero = float(partes[0])\n",
    "        fraccion = float(Fraction(partes[1]))\n",
    "        return entero + fraccion\n",
    "    elif len(partes) == 3:\n",
    "        # Si hay tres partes después de dividir por \"-\", convertir a float\n",
    "        entero = float(partes[0])\n",
    "        fraccion = float(Fraction(partes[2]))\n",
    "        return entero + fraccion\n",
    "    elif len(partes) == 1:\n",
    "        # Si hay una sola parte, intentar convertir a float directamente\n",
    "        try:\n",
    "            return float(partes[0])\n",
    "        except ValueError:\n",
    "            return None\n",
    "    else:\n",
    "        # Si no se cumple ninguna condición, devolver None o manejar según sea necesario\n",
    "        return None\n",
    "\n",
    "# Convertir elementos a float\n",
    "elementos_1_2_float = [convertir_a_float(elem) for elem in elementos_1_2]\n",
    "elementos_3_4_float = [convertir_a_float(elem) for elem in elementos_3_4]\n",
    "elementos_5_6_float = [convertir_a_float(elem) for elem in elementos_5_6]\n",
    "elementos_7_8_float = [convertir_a_float(elem) for elem in elementos_7_8]\n",
    "elementos_9_10_float = [convertir_a_float(elem) for elem in elementos_9_10]\n",
    "elementos_11_12_float = [convertir_a_float(elem) for elem in elementos_11_12]\n",
    "elementos_13_14_float = [convertir_a_float(elem) for elem in elementos_13_14]\n",
    "elementos_15_16_float = [convertir_a_float(elem) for elem in elementos_15_16]\n",
    "\n",
    "# Imprimir los resultados\n",
    "print(\"Elementos 1 y 2 como float:\", elementos_1_2_float)\n",
    "print(\"Elementos 3 y 4 como float:\", elementos_3_4_float)\n",
    "print(\"Elementos 5 y 6 como float:\", elementos_5_6_float)\n",
    "print(\"Elementos 7 y 8 como float:\", elementos_7_8_float)\n",
    "print(\"Elementos 9 y 10 como float:\", elementos_9_10_float)\n",
    "print(\"Elementos 11 y 12 como float:\", elementos_11_12_float)\n",
    "print(\"Elementos 13 y 14 como float:\", elementos_13_14_float)\n",
    "print(\"Elementos 15 y 16 como float:\", elementos_15_16_float)"
   ]
  },
  {
   "cell_type": "code",
   "execution_count": 38,
   "metadata": {},
   "outputs": [
    {
     "data": {
      "text/html": [
       "<div>\n",
       "<style scoped>\n",
       "    .dataframe tbody tr th:only-of-type {\n",
       "        vertical-align: middle;\n",
       "    }\n",
       "\n",
       "    .dataframe tbody tr th {\n",
       "        vertical-align: top;\n",
       "    }\n",
       "\n",
       "    .dataframe thead th {\n",
       "        text-align: right;\n",
       "    }\n",
       "</style>\n",
       "<table border=\"1\" class=\"dataframe\">\n",
       "  <thead>\n",
       "    <tr style=\"text-align: right;\">\n",
       "      <th></th>\n",
       "      <th>Fecha</th>\n",
       "      <th>Valor Mínimo</th>\n",
       "      <th>Valor Máximo</th>\n",
       "    </tr>\n",
       "  </thead>\n",
       "  <tbody>\n",
       "    <tr>\n",
       "      <th>0</th>\n",
       "      <td>2023-02-01</td>\n",
       "      <td>4.50</td>\n",
       "      <td>4.75</td>\n",
       "    </tr>\n",
       "    <tr>\n",
       "      <th>1</th>\n",
       "      <td>2023-03-22</td>\n",
       "      <td>4.75</td>\n",
       "      <td>5.00</td>\n",
       "    </tr>\n",
       "    <tr>\n",
       "      <th>2</th>\n",
       "      <td>2023-05-03</td>\n",
       "      <td>5.00</td>\n",
       "      <td>5.25</td>\n",
       "    </tr>\n",
       "    <tr>\n",
       "      <th>3</th>\n",
       "      <td>2023-06-14</td>\n",
       "      <td>5.00</td>\n",
       "      <td>5.25</td>\n",
       "    </tr>\n",
       "    <tr>\n",
       "      <th>4</th>\n",
       "      <td>2023-07-26</td>\n",
       "      <td>5.25</td>\n",
       "      <td>5.50</td>\n",
       "    </tr>\n",
       "    <tr>\n",
       "      <th>5</th>\n",
       "      <td>2023-09-20</td>\n",
       "      <td>5.25</td>\n",
       "      <td>5.50</td>\n",
       "    </tr>\n",
       "    <tr>\n",
       "      <th>6</th>\n",
       "      <td>2023-11-01</td>\n",
       "      <td>5.25</td>\n",
       "      <td>5.50</td>\n",
       "    </tr>\n",
       "    <tr>\n",
       "      <th>7</th>\n",
       "      <td>2023-12-13</td>\n",
       "      <td>5.25</td>\n",
       "      <td>5.50</td>\n",
       "    </tr>\n",
       "  </tbody>\n",
       "</table>\n",
       "</div>"
      ],
      "text/plain": [
       "        Fecha  Valor Mínimo  Valor Máximo\n",
       "0  2023-02-01          4.50          4.75\n",
       "1  2023-03-22          4.75          5.00\n",
       "2  2023-05-03          5.00          5.25\n",
       "3  2023-06-14          5.00          5.25\n",
       "4  2023-07-26          5.25          5.50\n",
       "5  2023-09-20          5.25          5.50\n",
       "6  2023-11-01          5.25          5.50\n",
       "7  2023-12-13          5.25          5.50"
      ]
     },
     "execution_count": 38,
     "metadata": {},
     "output_type": "execute_result"
    }
   ],
   "source": [
    "import pandas as pd\n",
    "\n",
    "# Crear un DataFrame con los valores mínimos y máximos y las fechas\n",
    "data = {\n",
    "    \"Fecha\": [\"2023-02-01\", \"2023-03-22\", \"2023-05-03\", \"2023-06-14\", \"2023-07-26\", \"2023-09-20\", \"2023-11-01\", \"2023-12-13\"],\n",
    "    \"Valor Mínimo\": [4.5, 4.75, 5.0, 5.0, 5.25, 5.25, 5.25, 5.25],\n",
    "    \"Valor Máximo\": [4.75, 5.0, 5.25, 5.25, 5.5, 5.5, 5.5, 5.5]\n",
    "}\n",
    "\n",
    "df = pd.DataFrame(data)\n",
    "\n",
    "# Imprimir el DataFrame\n",
    "df"
   ]
  },
  {
   "cell_type": "code",
   "execution_count": 40,
   "metadata": {},
   "outputs": [
    {
     "data": {
      "text/html": [
       "<div>\n",
       "<style scoped>\n",
       "    .dataframe tbody tr th:only-of-type {\n",
       "        vertical-align: middle;\n",
       "    }\n",
       "\n",
       "    .dataframe tbody tr th {\n",
       "        vertical-align: top;\n",
       "    }\n",
       "\n",
       "    .dataframe thead th {\n",
       "        text-align: right;\n",
       "    }\n",
       "</style>\n",
       "<table border=\"1\" class=\"dataframe\">\n",
       "  <thead>\n",
       "    <tr style=\"text-align: right;\">\n",
       "      <th></th>\n",
       "      <th>Fecha</th>\n",
       "      <th>Valor Mínimo</th>\n",
       "      <th>Valor Máximo</th>\n",
       "      <th>Promedio</th>\n",
       "    </tr>\n",
       "  </thead>\n",
       "  <tbody>\n",
       "    <tr>\n",
       "      <th>0</th>\n",
       "      <td>2023-02-01</td>\n",
       "      <td>4.50</td>\n",
       "      <td>4.75</td>\n",
       "      <td>4.625</td>\n",
       "    </tr>\n",
       "    <tr>\n",
       "      <th>1</th>\n",
       "      <td>2023-03-22</td>\n",
       "      <td>4.75</td>\n",
       "      <td>5.00</td>\n",
       "      <td>4.875</td>\n",
       "    </tr>\n",
       "    <tr>\n",
       "      <th>2</th>\n",
       "      <td>2023-05-03</td>\n",
       "      <td>5.00</td>\n",
       "      <td>5.25</td>\n",
       "      <td>5.125</td>\n",
       "    </tr>\n",
       "    <tr>\n",
       "      <th>3</th>\n",
       "      <td>2023-06-14</td>\n",
       "      <td>5.00</td>\n",
       "      <td>5.25</td>\n",
       "      <td>5.125</td>\n",
       "    </tr>\n",
       "    <tr>\n",
       "      <th>4</th>\n",
       "      <td>2023-07-26</td>\n",
       "      <td>5.25</td>\n",
       "      <td>5.50</td>\n",
       "      <td>5.375</td>\n",
       "    </tr>\n",
       "    <tr>\n",
       "      <th>5</th>\n",
       "      <td>2023-09-20</td>\n",
       "      <td>5.25</td>\n",
       "      <td>5.50</td>\n",
       "      <td>5.375</td>\n",
       "    </tr>\n",
       "    <tr>\n",
       "      <th>6</th>\n",
       "      <td>2023-11-01</td>\n",
       "      <td>5.25</td>\n",
       "      <td>5.50</td>\n",
       "      <td>5.375</td>\n",
       "    </tr>\n",
       "    <tr>\n",
       "      <th>7</th>\n",
       "      <td>2023-12-13</td>\n",
       "      <td>5.25</td>\n",
       "      <td>5.50</td>\n",
       "      <td>5.375</td>\n",
       "    </tr>\n",
       "  </tbody>\n",
       "</table>\n",
       "</div>"
      ],
      "text/plain": [
       "        Fecha  Valor Mínimo  Valor Máximo  Promedio\n",
       "0  2023-02-01          4.50          4.75     4.625\n",
       "1  2023-03-22          4.75          5.00     4.875\n",
       "2  2023-05-03          5.00          5.25     5.125\n",
       "3  2023-06-14          5.00          5.25     5.125\n",
       "4  2023-07-26          5.25          5.50     5.375\n",
       "5  2023-09-20          5.25          5.50     5.375\n",
       "6  2023-11-01          5.25          5.50     5.375\n",
       "7  2023-12-13          5.25          5.50     5.375"
      ]
     },
     "execution_count": 40,
     "metadata": {},
     "output_type": "execute_result"
    }
   ],
   "source": [
    "df[\"Promedio\"] = (df[\"Valor Mínimo\"] + df[\"Valor Máximo\"]) / 2\n",
    "df"
   ]
  },
  {
   "cell_type": "code",
   "execution_count": 48,
   "metadata": {},
   "outputs": [
    {
     "data": {
      "image/png": "[encoded data removed]",
      "text/plain": [
       "<Figure size 720x432 with 1 Axes>"
      ]
     },
     "metadata": {
      "needs_background": "light"
     },
     "output_type": "display_data"
    }
   ],
   "source": [
    "import matplotlib.pyplot as plt\n",
    "\n",
    "# Graficar el DataFrame\n",
    "plt.figure(figsize=(10, 6))\n",
    "plt.plot(df[\"Fecha\"], df[\"Valor Mínimo\"], marker='o', label=\"Minimum Value\")\n",
    "plt.plot(df[\"Fecha\"], df[\"Valor Máximo\"], marker='o', label=\"Maximum Value\")\n",
    "plt.plot(df[\"Fecha\"], df[\"Promedio\"], linestyle='--', label=\"Average\", linewidth=5)\n",
    "plt.ylabel(\"Federal Funds Rate (%)\")\n",
    "plt.title(\"FED's Monetary Policy in 2023\")\n",
    "plt.legend()\n",
    "plt.grid(True)\n",
    "plt.show()"
   ]
  },
  {
   "cell_type": "markdown",
   "metadata": {},
   "source": [
    "En este gráfico, se puede observar que las tasas de interés han aumentado durante la primera mitad del año 2023 con un ligero comportamiento estable entre mayo y junio; mientras que en la segunda mitad del año se puede apreciar un comportamiento estable. Según los informes con los que se construyó la base de datos, la invasión rusa a Ucrania ha contribuido con elevar la incertidumbre global, por lo que podría incentivar a que la inflación crezca. Por ello, y por una tasa de inflación previa alta, la FED empezó en febrero a aumentar el rango de la tasa de interés. En marzo y mayo, la inflación aún seguía alta, por lo que se decidió aumentar el rango de la tasa de interés en esos meses. En junio, se decide que el rango de la tasa de interés permanezca igual aunque la inflación se considere aún alta. Sin embargo, recién en julio se decide aumentar el rango por la alta tasa de inflación. En los siguientes meses, el rango permanece estable a pesar de la alta inflación."
   ]
  },
  {
   "cell_type": "markdown",
   "metadata": {},
   "source": [
    " Se aclara que, aunque la FED tenga como objetivo reducir la inflación y garantizar el pleno empleo, este último no ha sido el objetivo de la FED durante el 2023 porque la tasa de desempleo ha permanecido baja. Es importante destacar que la relevancia de la información de este año consiste en complementarse con los de periodos anteriores para analizar mejor la evolución del rango de las tasas y podría servir para predecir a través de la econometría o Machine Learning. Asimismo, puede complementarse este análisis con análisis de otros indicadores económicos o financieros como el rendimiento del mercado de valores o las tasas hipotecarias."
   ]
  }
 ],
 "metadata": {
  "hide_input": false,
  "kernelspec": {
   "display_name": "Python 3 (ipykernel)",
   "language": "python",
   "name": "python3"
  },
  "language_info": {
   "codemirror_mode": {
    "name": "ipython",
    "version": 3
   },
   "file_extension": ".py",
   "mimetype": "text/x-python",
   "name": "python",
   "nbconvert_exporter": "python",
   "pygments_lexer": "ipython3",
   "version": "3.9.7"
  },
  "toc": {
   "base_numbering": 1,
   "nav_menu": {},
   "number_sections": true,
   "sideBar": true,
   "skip_h1_title": false,
   "title_cell": "Table of Contents",
   "title_sidebar": "Contents",
   "toc_cell": false,
   "toc_position": {},
   "toc_section_display": true,
   "toc_window_display": false
  }
 },
 "nbformat": 4,
 "nbformat_minor": 4
}
