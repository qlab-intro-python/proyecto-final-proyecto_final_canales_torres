{
 "cells": [
  {
   "cell_type": "markdown",
   "metadata": {},
   "source": [
    "# **Proyecto final**"
   ]
  },
  {
   "cell_type": "markdown",
   "metadata": {},
   "source": [
    "Curso:          Fundamentos de Programación en Python para Macroeconomía y Finanzas     \n",
    "Profesor:       Victor Fuentes Campos     "
   ]
  },
  {
   "cell_type": "markdown",
   "metadata": {},
   "source": [
    "- Fecha y hora de entrega: Jueves 18 de enero, 9:59pm. **NO HABRÁN PRÓRROGAS**\n",
    "- Grupos de dos personas por elección libre\n",
    "- Envíe su tarea haciendo el `push` de su código a su repo en GitHub Classroom"
   ]
  },
  {
   "cell_type": "markdown",
   "metadata": {},
   "source": [
    "El propósito de este proyecto es que tengan un código de su autoría publicado en GitHub"
   ]
  },
  {
   "cell_type": "markdown",
   "metadata": {},
   "source": [
    "## Página web"
   ]
  },
  {
   "cell_type": "markdown",
   "metadata": {},
   "source": [
    "> Según lo discutido en la última clase, **deberán crear su propia página web usando GitHub Pages**. En ella, deberán mostrar el notebook de su proyecto final\n",
    "\n",
    "Recursos adicionales:\n",
    "\n",
    "1. Videos tutoriales\n",
    "    - https://www.youtube.com/watch?v=zyGfECfJ9BY\n",
    "    - https://www.youtube.com/watch?v=K5xImVmm2Ds\n",
    "\n",
    "\n",
    "2. Plantillas\n",
    "    - https://bootstrapmade.com/bootstrap-portfolio-templates/\n",
    "    - https://cssauthor.com/free-bootstrap-portfolio-templates/"
   ]
  },
  {
   "cell_type": "markdown",
   "metadata": {},
   "source": [
    "Incluya aquí el link de sus páginas web\n",
    "- Integrante 1: https://nael97-c.github.io/NestorCanalesAnyosa/\n",
    "- Integrante 2: ________________"
   ]
  },
  {
   "cell_type": "markdown",
   "metadata": {},
   "source": [
    "## Aplicación"
   ]
  },
  {
   "cell_type": "markdown",
   "metadata": {},
   "source": [
    "Pautas generales\n",
    "\n",
    "- Insumos: deberán trabajar al menos dos (2) bases de datos diferentes que requieran alguna transformación (`data wrangling`). Una de ellas tiene que ser un archivo de texto (`.txt`, `.pdf`, `.docx`, etc)\n",
    "- Tareas: (i) explicar la relevancia del análisis a desarrollar; (ii) utilizar al menos una vez listas, loops y functions para transformar la base de datos cruda y obtener información relevanete; y (iii) aplicar algoritmos de NLP para transformar texto en datos valiosos\n",
    "- Deberán proveer obligatoriamente gráficos (2 o más) y tablas/cuadros (2 o más) de su libre elección y conclusiones relevantes"
   ]
  },
  {
   "cell_type": "markdown",
   "metadata": {},
   "source": [
    "Posibles datos para el ejercicio de `data wrangling`\n",
    "\n",
    "- Estadísticas de 100 años del BCRP. Más [aquí](https://www.bcrp.gob.pe/en/estadisticas/estadisticas-de-100-anos-del-bcrp.html)\n",
    "- 1,000 años de datos macroeconómicos en Reino Unido. Más [aquí](https://www.kaggle.com/datasets/bank-of-england/a-millennium-of-macroeconomic-data)\n",
    "- Historial crediticio - Datathon Interbank 2020. Más [aquí](https://www.kaggle.com/competitions/interbank20/data?select=censo_test.csv)\n",
    "- Ataques terroristas en el mundo. Más [aquí](https://www.kaggle.com/code/gpreda/global-terrorist-attacks/input)\n",
    "- [World Hapiness Report 2023](https://worldhappiness.report/), compilado por Carla Solís. Más [aquí](https://raw.githubusercontent.com/ccsuehara/python_para_las_ccss/main/Clase%205/data/world-happiness-report-2023.csv)\n",
    "- Otros datos del BCRP, MEF, SBS, SMV, BVL, INEI, etc.\n",
    "- Cualquier otra base de datos que consideren relevante. En este caso, también deberán proveer la base de datos original en el repo. De ser muy grande, deberá ofrecer un link a la plataforma de almacenamiento en la nuba de su elección (Dropbox, Drive, OneDrive, etc) que permita el acceso a dichos datos\n"
   ]
  },
  {
   "cell_type": "markdown",
   "metadata": {},
   "source": [
    "Posibles datos para el ejercicio de NLP\n",
    "\n",
    "- Federal Open Market Committee (FOMC) meetings statements. Más [aquí](https://www.federalreserve.gov/monetarypolicy/fomccalendars.htm). El repo incluye tres archivos `.docx`\n",
    "- Programa Monetario del Banco Central de Reserva del Perú (BCRP). Más [aquí](https://www.bcrp.gob.pe/transparencia/actividades-oficiales/notas-informativas.html). El repo incluye tres archivos `.pdf`\n",
    "- Mensajes presidenciales de Carla Solís y Luis Eduardo San Martín. [Acá](https://github.com/ccsuehara/Peruvian-presidents-speeches/tree/master/data/presidentialSpeechPeru/txt) los archivos\n",
    "- \"Fake vs real news\" de George McIntire. Más info [aquí](https://opendatascience.com/how-to-build-a-fake-news-classification-model/). La base de datos está alojada en su [repo](https://github.com/GeorgeMcIntire/fake_real_news_dataset?tab=readme-ov-file)\n",
    "- Coronavirus tweets de Kaggle. Más info [aquí](https://www.kaggle.com/datasets/datatattle/covid-19-nlp-text-classification)\n",
    "- Twitter Financial News de Kaggle. Más infor [aquí](https://www.kaggle.com/datasets/sulphatet/twitter-financial-news)\n",
    "- Cualquier otra base de datos que consideren relevante. En este caso, también deberán proveer la base de datos original en el repo. De ser muy grande, deberá ofrecer un link a la plataforma de almacenamiento en la nuba de su elección (Dropbox, Drive, OneDrive, etc) que permita el acceso a dichos datos"
   ]
  },
  {
   "cell_type": "code",
   "execution_count": 4,
   "metadata": {},
   "outputs": [],
   "source": [
    "fomc_2023_02_01 = \"The Committee seeks to achieve maximum employment and inflation at the rate of 2 percent over the longer run. In support of these goals, the Committee decided to raise the target range for the federal funds rate to 4-1/2 to 4-3/4 percent. The Committee anticipates that ongoing increases in the target range will be appropriate in order to attain a stance of monetary policy that is sufficiently restrictive to return inflation to 2 percent over time. In determining the extent of future increases in the target range, the Committee will take into account the cumulative tightening of monetary policy, the lags with which monetary policy affects economic activity and inflation, and economic and financial developments. In addition, the Committee will continue reducing its holdings of Treasury securities and agency debt and agency mortgage-backed securities, as described in its previously announced plans. The Committee is strongly committed to returning inflation to its 2 percent objective.\"\n",
    "fomc_2023_06_14 = \"The Committee seeks to achieve maximum employment and inflation at the rate of 2 percent over the longer run. In support of these goals, the Committee decided to maintain the target range for the federal funds rate at 5 to 5-1/4 percent. Holding the target range steady at this meeting allows the Committee to assess additional information and its implications for monetary policy. In determining the extent of additional policy firming that may be appropriate to return inflation to 2 percent over time, the Committee will take into account the cumulative tightening of monetary policy, the lags with which monetary policy affects economic activity and inflation, and economic and financial developments. In addition, the Committee will continue reducing its holdings of Treasury securities and agency debt and agency mortgage-backed securities, as described in its previously announced plans. The Committee is strongly committed to returning inflation to its 2 percent objective.\"\n",
    "fomc_2023_12_13 = \"The Committee seeks to achieve maximum employment and inflation at the rate of 2 percent over the longer run. In support of these goals, the Committee decided to maintain the target range for the federal funds rate at 5-1/4 to 5-1/2 percent. The Committee will continue to assess additional information and its implications for monetary policy. In determining the extent of any additional policy firming that may be appropriate to return inflation to 2 percent over time, the Committee will take into account the cumulative tightening of monetary policy, the lags with which monetary policy affects economic activity and inflation, and economic and financial developments. In addition, the Committee will continue reducing its holdings of Treasury securities and agency debt and agency mortgage-backed securities, as described in its previously announced plans. The Committee is strongly committed to returning inflation to its 2 percent objective.\""
   ]
  },
  {
   "cell_type": "code",
   "execution_count": 7,
   "metadata": {},
   "outputs": [],
   "source": [
    "import re"
   ]
  },
  {
   "cell_type": "code",
   "execution_count": 64,
   "metadata": {},
   "outputs": [
    {
     "name": "stdout",
     "output_type": "stream",
     "text": [
      "['4-1/2', '4-3/4']\n"
     ]
    }
   ],
   "source": [
    "patron1 = r'(\\d+-\\d+/\\d+) to (\\d+-\\d+/\\d+)'\n",
    "resultados_1 = re.search(patron1, fomc_2023_02_01)\n",
    "\n",
    "if resultados_1:\n",
    "    elemento1 = resultados_1.group(1)\n",
    "    elemento2 = resultados_1.group(2)\n",
    "    elementos_1_2 = [elemento1, elemento2]\n",
    "\n",
    "    print(elementos_1_2)\n",
    "else:\n",
    "    print(\"No se encontraron coincidencias.\")"
   ]
  },
  {
   "cell_type": "code",
   "execution_count": 68,
   "metadata": {},
   "outputs": [
    {
     "name": "stdout",
     "output_type": "stream",
     "text": [
      "['5', '5-1/4']\n"
     ]
    }
   ],
   "source": [
    "patron2 = r'(\\d) to (\\d+-\\d+/\\d+)'\n",
    "resultados_2 = re.search(patron2, fomc_2023_06_14)\n",
    "\n",
    "if resultados_2:\n",
    "    elemento3 = resultados_2.group(1)\n",
    "    elemento4 = resultados_2.group(2)\n",
    "    elementos_3_4 = [elemento3, elemento4]\n",
    "\n",
    "    print(elementos_3_4)\n",
    "else:\n",
    "    print(\"No se encontraron coincidencias.\")"
   ]
  },
  {
   "cell_type": "code",
   "execution_count": 69,
   "metadata": {},
   "outputs": [
    {
     "name": "stdout",
     "output_type": "stream",
     "text": [
      "['5-1/4', '5-1/2']\n"
     ]
    }
   ],
   "source": [
    "resultados_3 = re.search(patron1, fomc_2023_12_13)\n",
    "\n",
    "if resultados_3:\n",
    "    elemento5 = resultados_3.group(1)\n",
    "    elemento6 = resultados_3.group(2)\n",
    "    elementos_5_6 = [elemento5, elemento6]\n",
    "\n",
    "    print(elementos_5_6)\n",
    "else:\n",
    "    print(\"No se encontraron coincidencias.\")"
   ]
  },
  {
   "cell_type": "code",
   "execution_count": 74,
   "metadata": {},
   "outputs": [
    {
     "name": "stdout",
     "output_type": "stream",
     "text": [
      "Tipos para elementos_1_2:\n",
      "Tipo de '4-1/2': <class 'str'>\n",
      "Tipo de '4-3/4': <class 'str'>\n",
      "\n",
      "Tipos para elementos_3_4:\n",
      "Tipo de '5': <class 'str'>\n",
      "Tipo de '5-1/4': <class 'str'>\n",
      "\n",
      "Tipos para elementos_5_6:\n",
      "Tipo de '5-1/4': <class 'str'>\n",
      "Tipo de '5-1/2': <class 'str'>\n"
     ]
    }
   ],
   "source": [
    "# Función para imprimir el tipo de cada elemento en una lista\n",
    "def imprimir_tipos(lista):\n",
    "    for elemento in lista:\n",
    "        print(f\"Tipo de '{elemento}': {type(elemento)}\")\n",
    "\n",
    "# Imprimir tipos para cada lista\n",
    "print(\"Tipos para elementos_1_2:\")\n",
    "imprimir_tipos(elementos_1_2)\n",
    "\n",
    "print(\"\\nTipos para elementos_3_4:\")\n",
    "imprimir_tipos(elementos_3_4)\n",
    "\n",
    "print(\"\\nTipos para elementos_5_6:\")\n",
    "imprimir_tipos(elementos_5_6)"
   ]
  },
  {
   "cell_type": "code",
   "execution_count": 78,
   "metadata": {},
   "outputs": [
    {
     "name": "stdout",
     "output_type": "stream",
     "text": [
      "Elementos 1 y 2 como float: [4.5, 4.75]\n",
      "Elementos 3 y 4 como float: [5.0, 5.25]\n",
      "Elementos 5 y 6 como float: [5.25, 5.5]\n"
     ]
    }
   ],
   "source": [
    "from fractions import Fraction\n",
    "\n",
    "def convertir_a_float(elemento):\n",
    "    partes = elemento.split('-')\n",
    "    \n",
    "    if len(partes) == 2:\n",
    "        # Si hay dos partes después de dividir por \"-\", convertir a float\n",
    "        entero = float(partes[0])\n",
    "        fraccion = float(Fraction(partes[1]))\n",
    "        return entero + fraccion\n",
    "    elif len(partes) == 3:\n",
    "        # Si hay tres partes después de dividir por \"-\", convertir a float\n",
    "        entero = float(partes[0])\n",
    "        fraccion = float(Fraction(partes[2]))\n",
    "        return entero + fraccion\n",
    "    elif len(partes) == 1:\n",
    "        # Si hay una sola parte, intentar convertir a float directamente\n",
    "        try:\n",
    "            return float(partes[0])\n",
    "        except ValueError:\n",
    "            return None\n",
    "    else:\n",
    "        # Si no se cumple ninguna condición, devolver None o manejar según sea necesario\n",
    "        return None\n",
    "\n",
    "# Convertir elementos a float\n",
    "elementos_1_2_float = [convertir_a_float(elem) for elem in elementos_1_2]\n",
    "elementos_3_4_float = [convertir_a_float(elem) for elem in elementos_3_4]\n",
    "elementos_5_6_float = [convertir_a_float(elem) for elem in elementos_5_6]\n",
    "\n",
    "# Imprimir los resultados\n",
    "print(\"Elementos 1 y 2 como float:\", elementos_1_2_float)\n",
    "print(\"Elementos 3 y 4 como float:\", elementos_3_4_float)\n",
    "print(\"Elementos 5 y 6 como float:\", elementos_5_6_float)"
   ]
  },
  {
   "cell_type": "code",
   "execution_count": 82,
   "metadata": {},
   "outputs": [
    {
     "data": {
      "text/html": [
       "<div>\n",
       "<style scoped>\n",
       "    .dataframe tbody tr th:only-of-type {\n",
       "        vertical-align: middle;\n",
       "    }\n",
       "\n",
       "    .dataframe tbody tr th {\n",
       "        vertical-align: top;\n",
       "    }\n",
       "\n",
       "    .dataframe thead th {\n",
       "        text-align: right;\n",
       "    }\n",
       "</style>\n",
       "<table border=\"1\" class=\"dataframe\">\n",
       "  <thead>\n",
       "    <tr style=\"text-align: right;\">\n",
       "      <th></th>\n",
       "      <th>Fecha</th>\n",
       "      <th>Valor Mínimo</th>\n",
       "      <th>Valor Máximo</th>\n",
       "    </tr>\n",
       "  </thead>\n",
       "  <tbody>\n",
       "    <tr>\n",
       "      <th>0</th>\n",
       "      <td>2023-02-01</td>\n",
       "      <td>4.50</td>\n",
       "      <td>4.75</td>\n",
       "    </tr>\n",
       "    <tr>\n",
       "      <th>1</th>\n",
       "      <td>2023-06-14</td>\n",
       "      <td>5.00</td>\n",
       "      <td>5.25</td>\n",
       "    </tr>\n",
       "    <tr>\n",
       "      <th>2</th>\n",
       "      <td>2023-12-13</td>\n",
       "      <td>5.25</td>\n",
       "      <td>5.50</td>\n",
       "    </tr>\n",
       "  </tbody>\n",
       "</table>\n",
       "</div>"
      ],
      "text/plain": [
       "        Fecha  Valor Mínimo  Valor Máximo\n",
       "0  2023-02-01          4.50          4.75\n",
       "1  2023-06-14          5.00          5.25\n",
       "2  2023-12-13          5.25          5.50"
      ]
     },
     "execution_count": 82,
     "metadata": {},
     "output_type": "execute_result"
    }
   ],
   "source": [
    "import pandas as pd\n",
    "\n",
    "# Crear un DataFrame con los valores mínimos y máximos y las fechas\n",
    "data = {\n",
    "    \"Fecha\": [\"2023-02-01\", \"2023-06-14\", \"2023-12-13\"],\n",
    "    \"Valor Mínimo\": [4.5, 5.0, 5.25],\n",
    "    \"Valor Máximo\": [4.75, 5.25, 5.5]\n",
    "}\n",
    "\n",
    "df = pd.DataFrame(data)\n",
    "\n",
    "# Imprimir el DataFrame\n",
    "df"
   ]
  }
 ],
 "metadata": {
  "hide_input": false,
  "kernelspec": {
   "display_name": "Python 3 (ipykernel)",
   "language": "python",
   "name": "python3"
  },
  "language_info": {
   "codemirror_mode": {
    "name": "ipython",
    "version": 3
   },
   "file_extension": ".py",
   "mimetype": "text/x-python",
   "name": "python",
   "nbconvert_exporter": "python",
   "pygments_lexer": "ipython3",
   "version": "3.9.7"
  },
  "toc": {
   "base_numbering": 1,
   "nav_menu": {},
   "number_sections": true,
   "sideBar": true,
   "skip_h1_title": false,
   "title_cell": "Table of Contents",
   "title_sidebar": "Contents",
   "toc_cell": false,
   "toc_position": {},
   "toc_section_display": true,
   "toc_window_display": false
  }
 },
 "nbformat": 4,
 "nbformat_minor": 4
}
